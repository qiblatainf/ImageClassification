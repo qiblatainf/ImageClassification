{
  "nbformat": 4,
  "nbformat_minor": 0,
  "metadata": {
    "colab": {
      "name": "ItoAI_S21_HW4_v4.ipynb",
      "provenance": [],
      "collapsed_sections": []
    },
    "kernelspec": {
      "display_name": "Python 3",
      "language": "python",
      "name": "python3"
    },
    "language_info": {
      "codemirror_mode": {
        "name": "ipython",
        "version": 3
      },
      "file_extension": ".py",
      "mimetype": "text/x-python",
      "name": "python",
      "nbconvert_exporter": "python",
      "pygments_lexer": "ipython3",
      "version": "3.8.3"
    }
  },
  "cells": [
    {
      "cell_type": "code",
      "metadata": {
        "id": "K1NBWtryTOUy",
        "colab": {
          "base_uri": "https://localhost:8080/"
        },
        "outputId": "72ab6c9f-1aec-4026-a70f-fffcd5e45e5d"
      },
      "source": [
        "try:\n",
        "    from google.colab import drive\n",
        "    drive.mount('/content/drive', force_remount=True)\n",
        "    COLAB = True\n",
        "    print(\"Note: using Google CoLab\")\n",
        "    %tensorflow_version 2.x\n",
        "except:\n",
        "    print(\"Note: not using Google CoLab\")\n",
        "    COLAB = False"
      ],
      "execution_count": 11,
      "outputs": [
        {
          "output_type": "stream",
          "text": [
            "Mounted at /content/drive\n",
            "Note: using Google CoLab\n"
          ],
          "name": "stdout"
        }
      ]
    },
    {
      "cell_type": "code",
      "metadata": {
        "id": "Z9WHUCgbTjrB",
        "colab": {
          "base_uri": "https://localhost:8080/",
          "height": 267
        },
        "outputId": "1f01efc8-905c-4ecb-e0e2-9b812b8a4149"
      },
      "source": [
        "#https://www.youtube.com/watch?v=j-3vuBynnOE\n",
        "\n",
        "#pip install opencv-pythonimport tensorflow as tf\n",
        "import matplotlib.pyplot as plt\n",
        "from sklearn.metrics import roc_curve, auc\n",
        "import os\n",
        "import cv2\n",
        "\n",
        "DATADIR = \"/content/drive/My Drive/Colab Notebooks/QandF/\"\n",
        "CATEGORIES = [\"Q\", \"F\"]\n",
        "\n",
        "\n",
        "for category in CATEGORIES:\n",
        "    path = os.path.join(DATADIR, category) #path to QandF folder with Q and F as the categories\n",
        "    for img in os.listdir(path):\n",
        "        try:\n",
        "            img_array = cv2.imread(os.path.join(path,img), cv2.IMREAD_GRAYSCALE) #converting images to grayscale because RGB sized data take a large space, also colours are not really important here to differentiate\n",
        "            plt.imshow(img_array, cmap=\"gray\") #to view the image\n",
        "      \n",
        "        except Exception as e:\n",
        "            pass\n"
      ],
      "execution_count": 12,
      "outputs": [
        {
          "output_type": "display_data",
          "data": {
            "image/png": "[encoded data removed]",
            "text/plain": [
              "<Figure size 432x288 with 1 Axes>"
            ]
          },
          "metadata": {
            "tags": [],
            "needs_background": "light"
          }
        }
      ]
    },
    {
      "cell_type": "code",
      "metadata": {
        "id": "Vo15yCFCV6gD",
        "colab": {
          "base_uri": "https://localhost:8080/"
        },
        "outputId": "9d8dae93-3eb2-4422-c1c0-c767e4c4c262"
      },
      "source": [
        "!ls /content/drive/My\\ Drive/Colab\\ Notebooks"
      ],
      "execution_count": 13,
      "outputs": [
        {
          "output_type": "stream",
          "text": [
            "ItoAI_S21_HW4_v4.ipynb\tQandF  Untitled0.ipynb\tXandO\n"
          ],
          "name": "stdout"
        }
      ]
    },
    {
      "cell_type": "code",
      "metadata": {
        "id": "5bathcfmm4pM",
        "colab": {
          "base_uri": "https://localhost:8080/"
        },
        "outputId": "60cd87d9-1ca1-40c1-b930-13e154bd5b6c"
      },
      "source": [
        "import numpy as np\n",
        "import matplotlib.pyplot as plt\n",
        "import os\n",
        "import cv2\n",
        "import random\n",
        "\n",
        "DATADIR = \"/content/drive/My Drive/Colab Notebooks/QandF/\"\n",
        "CATEGORIES = [\"Q\", \"F\"]\n",
        "#DATADIR = \"./kagglecatsanddogs_3367a/PetImages\"\n",
        "#DATADIR = \"./kagglecatsanddogs_small/PetImages\"\n",
        "#CATEGORIES = [\"Dog\", \"Cat\"]\n",
        "\n",
        "\n",
        "IMG_SIZE = 50\n",
        "\n",
        "training_data = []\n",
        "def create_training_data():\n",
        "    for category in CATEGORIES:\n",
        "        path = os.path.join(DATADIR, category) #path to Q and F directory\n",
        "        class_num = CATEGORIES.index(category) #categorizing the images\n",
        "        for img in os.listdir(path):\n",
        "            try:\n",
        "                img_array = cv2.imread(os.path.join(path,img), cv2.IMREAD_GRAYSCALE)\n",
        "                new_array = cv2.resize(img_array, (IMG_SIZE, IMG_SIZE))\n",
        "                #plt.imshow(new_array, cmap = 'gray')\n",
        "                #plt.show()\n",
        "                training_data.append([new_array,class_num])\n",
        "            except Exception as e: #broken images\n",
        "                pass\n",
        "\n",
        "create_training_data()\n",
        "print(len(training_data)) #total images, just as many Qs as just as many Fs\n",
        "\n",
        "random.shuffle(training_data) \n",
        "\n",
        "#for sample in training_data:\n",
        "#    print(sample[1])\n",
        "\n",
        "X=[]\n",
        "Y=[]\n",
        "for features, label in training_data:\n",
        "    X.append(features)\n",
        "    Y.append(label)\n",
        "    \n",
        "X = np.array(X).reshape(-1, IMG_SIZE, IMG_SIZE,1) #-1 is how many features we have, shape should be imagesize x imagesize, 1 because it is in grayscale\n",
        "Y = np.array(Y)\n",
        "X = X/255.0\n",
        "#print (X)"
      ],
      "execution_count": 14,
      "outputs": [
        {
          "output_type": "stream",
          "text": [
            "40\n"
          ],
          "name": "stdout"
        }
      ]
    },
    {
      "cell_type": "code",
      "metadata": {
        "id": "F2GQL1X1mmdS",
        "colab": {
          "base_uri": "https://localhost:8080/"
        },
        "outputId": "bc8d2d31-ab73-4e5f-eb43-cdc513a7c12d"
      },
      "source": [
        "import tensorflow as tf\n",
        "from tensorflow.keras.models import Sequential\n",
        "from tensorflow.keras.layers import Dense, Dropout, Activation, Flatten, Conv2D, MaxPooling2D\n",
        "from tensorflow.keras.callbacks import EarlyStopping\n",
        "from sklearn.model_selection import train_test_split\n",
        "import pickle\n",
        "\n",
        "#X=pickle.load(open(\"X.pickle\", \"rb\"))\n",
        "#Y = pickle.load(open(\"Y.pickle\",\"rb\"))\n",
        "#print(X)\n",
        "\n",
        "# Split into train/test\n",
        "x_train, x_test, y_train, y_test = train_test_split(    \n",
        "    X, Y, test_size=0.2, random_state=42)\n",
        "print(\"X.shape=\",X.shape)\n",
        "print(\"x_train.shape=\",x_train.shape)\n",
        "print(\"y_train.shape=\",y_train.shape)\n",
        "print(\"x_test.shape=\",x_test.shape)\n",
        "print(\"y_test.shape=\",y_test.shape)\n",
        "\n",
        "callback = EarlyStopping(monitor='val_loss', patience=5)\n",
        "# This callback will stop the training when there is no improvement in\n",
        "# the validation loss for five consecutive epochs.\n",
        "\n",
        "model = Sequential()\n",
        "\n",
        "model.add(Conv2D(14,(3,3),input_shape=X.shape[1:]))\n",
        "#model.add(Conv2D(7,(3,3),input_shape=x_train.shape[1:]))\n",
        "model.add(Activation(\"relu\"))\n",
        "model.add(MaxPooling2D(pool_size=(2,2)))\n",
        "\n",
        "model.add(Conv2D(14,(3,3)))\n",
        "#model.add(Conv2D(7,(3,3)))\n",
        "model.add(Activation(\"relu\"))\n",
        "model.add(MaxPooling2D(pool_size=(2,2)))\n",
        "\n",
        "model.add(Flatten())\n",
        "model.add(Dense(64))\n",
        "\n",
        "model.add(Dropout(0.2))\n",
        "model.add(Dense(1))\n",
        "model.add(Activation('sigmoid'))\n",
        "\n",
        "model.compile(loss=\"binary_crossentropy\",\n",
        "              optimizer=\"adam\",\n",
        "              metrics=['accuracy'])\n",
        "#model.fit(x_train, y_train,batch_size=32,epochs=500,callbacks=[callback],validation_data=(x_test,y_test))\n",
        "model.fit(x_train, y_train,batch_size=32,epochs=10,validation_data=(x_test,y_test),verbose=0)\n"
      ],
      "execution_count": 15,
      "outputs": [
        {
          "output_type": "stream",
          "text": [
            "X.shape= (40, 50, 50, 1)\n",
            "x_train.shape= (32, 50, 50, 1)\n",
            "y_train.shape= (32,)\n",
            "x_test.shape= (8, 50, 50, 1)\n",
            "y_test.shape= (8,)\n"
          ],
          "name": "stdout"
        },
        {
          "output_type": "execute_result",
          "data": {
            "text/plain": [
              "<tensorflow.python.keras.callbacks.History at 0x7f39b4d2cf90>"
            ]
          },
          "metadata": {
            "tags": []
          },
          "execution_count": 15
        }
      ]
    },
    {
      "cell_type": "markdown",
      "metadata": {
        "id": "3200C_pg7CQc"
      },
      "source": [
        "***CNN Architecture 1***\n",
        "\n",
        "**epochs size = 20 used in architecture 1**"
      ]
    },
    {
      "cell_type": "code",
      "metadata": {
        "colab": {
          "base_uri": "https://localhost:8080/"
        },
        "id": "OdyLz0ZDSQU4",
        "outputId": "290620b4-33c4-4b17-81c4-3a4d427763e4"
      },
      "source": [
        "#CNN Architecture 1\n",
        "\n",
        "import tensorflow as tf\n",
        "from tensorflow.keras.models import Sequential\n",
        "from tensorflow.keras.layers import Dense, Dropout, Activation, Flatten, Conv2D, MaxPooling2D\n",
        "from tensorflow.keras.callbacks import EarlyStopping\n",
        "from sklearn.model_selection import train_test_split\n",
        "import pickle\n",
        "\n",
        "#X = pickle.load(open(\"X.pickle\", \"rb\"))\n",
        "#Y = pickle.load(open(\"Y.pickle\",\"rb\"))\n",
        "#print(X)\n",
        "\n",
        "# Split into train/test\n",
        "x_train, x_test, y_train, y_test = train_test_split(X, Y, test_size=0.2, random_state=42)\n",
        "print(\"X.shape=\",X.shape)\n",
        "print(\"x_train.shape=\",x_train.shape)\n",
        "print(\"y_train.shape=\",y_train.shape)\n",
        "print(\"x_test.shape=\",x_test.shape)\n",
        "print(\"y_test.shape=\",y_test.shape)\n",
        "\n",
        "callback = EarlyStopping(monitor='val_loss', patience=5)\n",
        "# This callback will stop the training when there is no improvement in\n",
        "# the validation loss for five consecutive epochs.\n",
        "\n",
        "model = Sequential() #sequential model\n",
        "\n",
        "model.add(Conv2D(50,(4,4),input_shape=X.shape[1:])) #4 x 4 is the window size, adding convolutional layer\n",
        "#model.add(Conv2D(7,(3,3),input_shape=x_train.shape[1:]))\n",
        "#we can pass acitivation or max pooling\n",
        "model.add(Activation(\"relu\"))\n",
        "model.add(MaxPooling2D(pool_size=(2,2))) #pool size is 2 x 2\n",
        "\n",
        "\n",
        "model.add(Conv2D(50,(4,4))) #4 x 4 is the window size, adding convolutional layer\n",
        "#model.add(Conv2D(7,(3,3),input_shape=x_train.shape[1:]))\n",
        "#we can pass acitivation or max pooling\n",
        "model.add(Activation(\"relu\"))\n",
        "model.add(MaxPooling2D(pool_size=(2,2))) #pool size is 2 x 2\n",
        "\n",
        "\n",
        "model.add(Flatten())\n",
        "model.add(Dense(50))\n",
        "\n",
        "model.add(Dropout(0.2))\n",
        "model.add(Dense(1))\n",
        "model.add(Activation('sigmoid'))\n",
        "\n",
        "model.compile(loss=\"binary_crossentropy\", optimizer=\"adam\", metrics=['accuracy'])\n",
        "#model.fit(x_train, y_train,batch_size=32,epochs=500,callbacks=[callback],validation_data=(x_test,y_test))\n",
        "model.fit(x_train, y_train,batch_size=32,epochs=20,validation_data=(x_test,y_test),verbose=2)\n"
      ],
      "execution_count": 16,
      "outputs": [
        {
          "output_type": "stream",
          "text": [
            "X.shape= (40, 50, 50, 1)\n",
            "x_train.shape= (32, 50, 50, 1)\n",
            "y_train.shape= (32,)\n",
            "x_test.shape= (8, 50, 50, 1)\n",
            "y_test.shape= (8,)\n",
            "Epoch 1/20\n",
            "1/1 - 1s - loss: 0.7041 - accuracy: 0.5625 - val_loss: 0.6350 - val_accuracy: 0.7500\n",
            "Epoch 2/20\n",
            "1/1 - 0s - loss: 0.5914 - accuracy: 0.8125 - val_loss: 0.6038 - val_accuracy: 0.6250\n",
            "Epoch 3/20\n",
            "1/1 - 0s - loss: 0.5149 - accuracy: 0.7812 - val_loss: 0.6405 - val_accuracy: 0.5000\n",
            "Epoch 4/20\n",
            "1/1 - 0s - loss: 0.5066 - accuracy: 0.6875 - val_loss: 0.4915 - val_accuracy: 0.8750\n",
            "Epoch 5/20\n",
            "1/1 - 0s - loss: 0.4107 - accuracy: 0.8438 - val_loss: 0.4959 - val_accuracy: 0.6250\n",
            "Epoch 6/20\n",
            "1/1 - 0s - loss: 0.3615 - accuracy: 0.8125 - val_loss: 0.3969 - val_accuracy: 0.8750\n",
            "Epoch 7/20\n",
            "1/1 - 0s - loss: 0.2863 - accuracy: 0.9375 - val_loss: 0.5459 - val_accuracy: 0.6250\n",
            "Epoch 8/20\n",
            "1/1 - 0s - loss: 0.3340 - accuracy: 0.8750 - val_loss: 0.3096 - val_accuracy: 0.8750\n",
            "Epoch 9/20\n",
            "1/1 - 0s - loss: 0.2070 - accuracy: 0.9688 - val_loss: 0.2601 - val_accuracy: 1.0000\n",
            "Epoch 10/20\n",
            "1/1 - 0s - loss: 0.2195 - accuracy: 0.9375 - val_loss: 0.2177 - val_accuracy: 1.0000\n",
            "Epoch 11/20\n",
            "1/1 - 0s - loss: 0.1965 - accuracy: 0.9375 - val_loss: 0.2518 - val_accuracy: 0.8750\n",
            "Epoch 12/20\n",
            "1/1 - 0s - loss: 0.1121 - accuracy: 1.0000 - val_loss: 0.3984 - val_accuracy: 0.7500\n",
            "Epoch 13/20\n",
            "1/1 - 0s - loss: 0.1742 - accuracy: 0.9375 - val_loss: 0.2327 - val_accuracy: 0.8750\n",
            "Epoch 14/20\n",
            "1/1 - 0s - loss: 0.0933 - accuracy: 1.0000 - val_loss: 0.1325 - val_accuracy: 1.0000\n",
            "Epoch 15/20\n",
            "1/1 - 0s - loss: 0.0850 - accuracy: 1.0000 - val_loss: 0.1043 - val_accuracy: 1.0000\n",
            "Epoch 16/20\n",
            "1/1 - 0s - loss: 0.0857 - accuracy: 1.0000 - val_loss: 0.1047 - val_accuracy: 1.0000\n",
            "Epoch 17/20\n",
            "1/1 - 0s - loss: 0.0496 - accuracy: 1.0000 - val_loss: 0.1382 - val_accuracy: 0.8750\n",
            "Epoch 18/20\n",
            "1/1 - 0s - loss: 0.0447 - accuracy: 1.0000 - val_loss: 0.1623 - val_accuracy: 0.8750\n",
            "Epoch 19/20\n",
            "1/1 - 0s - loss: 0.0362 - accuracy: 1.0000 - val_loss: 0.1558 - val_accuracy: 0.8750\n",
            "Epoch 20/20\n",
            "1/1 - 0s - loss: 0.0331 - accuracy: 1.0000 - val_loss: 0.1119 - val_accuracy: 0.8750\n"
          ],
          "name": "stdout"
        },
        {
          "output_type": "execute_result",
          "data": {
            "text/plain": [
              "<tensorflow.python.keras.callbacks.History at 0x7f39b4b81c50>"
            ]
          },
          "metadata": {
            "tags": []
          },
          "execution_count": 16
        }
      ]
    },
    {
      "cell_type": "markdown",
      "metadata": {
        "id": "hV_X6Stg6yfO"
      },
      "source": [
        "***CNN Architecture 2***\n",
        "\n",
        "**epochs size = 15 used in architecture 2**"
      ]
    },
    {
      "cell_type": "code",
      "metadata": {
        "colab": {
          "base_uri": "https://localhost:8080/"
        },
        "id": "QNqWSVWso0x6",
        "outputId": "b241d2d4-487a-45e7-aa7c-45c7850d6ff4"
      },
      "source": [
        "#CNN Architecture 2\n",
        "\n",
        "import tensorflow as tf\n",
        "from tensorflow.keras.models import Sequential\n",
        "from tensorflow.keras.layers import Dense, Dropout, Activation, Flatten, Conv2D, MaxPooling2D\n",
        "from tensorflow.keras.callbacks import EarlyStopping\n",
        "from sklearn.model_selection import train_test_split\n",
        "import pickle\n",
        "\n",
        "#X = pickle.load(open(\"X.pickle\", \"rb\"))\n",
        "#Y = pickle.load(open(\"Y.pickle\",\"rb\"))\n",
        "#print(X)\n",
        "\n",
        "# Split into train/test\n",
        "x_train, x_test, y_train, y_test = train_test_split(X, Y, test_size=0.2, random_state=42)\n",
        "print(\"X.shape=\",X.shape)\n",
        "print(\"x_train.shape=\",x_train.shape)\n",
        "print(\"y_train.shape=\",y_train.shape)\n",
        "print(\"x_test.shape=\",x_test.shape)\n",
        "print(\"y_test.shape=\",y_test.shape)\n",
        "\n",
        "callback = EarlyStopping(monitor='val_loss', patience=5)\n",
        "# This callback will stop the training when there is no improvement in\n",
        "# the validation loss for five consecutive epochs.\n",
        "\n",
        "\n",
        "model = Sequential() #sequential model\n",
        "\n",
        "model.add(Conv2D(32,(4,4),input_shape=X.shape[1:])) #4 x 4 is the window size, adding convolutional layer #we can pass acitivation or max pooling\n",
        "model.add(Activation(\"relu\"))\n",
        "model.add(MaxPooling2D(pool_size=(2,2))) #pool size is 2 x 2\n",
        "model.add(Conv2D(64,(4,4))) #4 x 4 is the window size, adding convolutional layer\n",
        "model.add(Activation(\"relu\"))\n",
        "model.add(MaxPooling2D(pool_size=(2,2))) #pool size is 2 x 2\n",
        "model.add(Conv2D(64,(4,4))) #4 x 4 is the window size, adding convolutional layer\n",
        "#model.add(Activation(\"sigmoid\"))\n",
        "model.add(Activation(\"relu\"))\n",
        "\n",
        "model.add(Flatten())\n",
        "model.add(Dense(50))\n",
        "\n",
        "model.add(Dropout(0.2))\n",
        "model.add(Dense(1))\n",
        "model.add(Activation('sigmoid'))\n",
        "\n",
        "\n",
        "model.compile(loss=\"binary_crossentropy\", optimizer=\"adam\", metrics=['accuracy'])\n",
        "#model.fit(x_train, y_train,batch_size=32,epochs=500,callbacks=[callback],validation_data=(x_test,y_test))\n",
        "model.fit(x_train, y_train,batch_size=32,epochs=15,validation_data=(x_test,y_test),verbose=2)\n",
        "\n"
      ],
      "execution_count": 17,
      "outputs": [
        {
          "output_type": "stream",
          "text": [
            "X.shape= (40, 50, 50, 1)\n",
            "x_train.shape= (32, 50, 50, 1)\n",
            "y_train.shape= (32,)\n",
            "x_test.shape= (8, 50, 50, 1)\n",
            "y_test.shape= (8,)\n",
            "Epoch 1/15\n",
            "1/1 - 1s - loss: 0.6936 - accuracy: 0.5000 - val_loss: 0.6685 - val_accuracy: 0.7500\n",
            "Epoch 2/15\n",
            "1/1 - 0s - loss: 0.6487 - accuracy: 0.7812 - val_loss: 0.6258 - val_accuracy: 0.6250\n",
            "Epoch 3/15\n",
            "1/1 - 0s - loss: 0.5810 - accuracy: 0.8750 - val_loss: 0.5743 - val_accuracy: 0.8750\n",
            "Epoch 4/15\n",
            "1/1 - 0s - loss: 0.5051 - accuracy: 0.8750 - val_loss: 0.4968 - val_accuracy: 0.8750\n",
            "Epoch 5/15\n",
            "1/1 - 0s - loss: 0.3956 - accuracy: 0.9375 - val_loss: 0.4146 - val_accuracy: 0.8750\n",
            "Epoch 6/15\n",
            "1/1 - 0s - loss: 0.2774 - accuracy: 0.9688 - val_loss: 0.3244 - val_accuracy: 0.8750\n",
            "Epoch 7/15\n",
            "1/1 - 0s - loss: 0.1944 - accuracy: 0.9688 - val_loss: 0.2612 - val_accuracy: 0.8750\n",
            "Epoch 8/15\n",
            "1/1 - 0s - loss: 0.1196 - accuracy: 1.0000 - val_loss: 0.1702 - val_accuracy: 0.8750\n",
            "Epoch 9/15\n",
            "1/1 - 0s - loss: 0.0638 - accuracy: 1.0000 - val_loss: 0.2136 - val_accuracy: 0.8750\n",
            "Epoch 10/15\n",
            "1/1 - 0s - loss: 0.0383 - accuracy: 1.0000 - val_loss: 0.1372 - val_accuracy: 0.8750\n",
            "Epoch 11/15\n",
            "1/1 - 0s - loss: 0.0155 - accuracy: 1.0000 - val_loss: 0.1071 - val_accuracy: 0.8750\n",
            "Epoch 12/15\n",
            "1/1 - 0s - loss: 0.0072 - accuracy: 1.0000 - val_loss: 0.1231 - val_accuracy: 0.8750\n",
            "Epoch 13/15\n",
            "1/1 - 0s - loss: 0.0036 - accuracy: 1.0000 - val_loss: 0.1707 - val_accuracy: 0.8750\n",
            "Epoch 14/15\n",
            "1/1 - 0s - loss: 0.0011 - accuracy: 1.0000 - val_loss: 0.2448 - val_accuracy: 0.8750\n",
            "Epoch 15/15\n",
            "1/1 - 0s - loss: 5.9658e-04 - accuracy: 1.0000 - val_loss: 0.3170 - val_accuracy: 0.8750\n"
          ],
          "name": "stdout"
        },
        {
          "output_type": "execute_result",
          "data": {
            "text/plain": [
              "<tensorflow.python.keras.callbacks.History at 0x7f39b196b5d0>"
            ]
          },
          "metadata": {
            "tags": []
          },
          "execution_count": 17
        }
      ]
    },
    {
      "cell_type": "markdown",
      "metadata": {
        "id": "0HHtgkSepUHp"
      },
      "source": [
        "**Epoch value between 10 to 20 is sufficient to converge the validation accuracy to 70% and higher.**"
      ]
    },
    {
      "cell_type": "markdown",
      "metadata": {
        "id": "vy7J4Dq88brK"
      },
      "source": [
        "**Testing the Predictions**"
      ]
    },
    {
      "cell_type": "code",
      "metadata": {
        "colab": {
          "base_uri": "https://localhost:8080/",
          "height": 1000
        },
        "id": "LmXOIVa_WQU1",
        "outputId": "319d26af-9f32-4be5-caa6-53dc8beb24cd"
      },
      "source": [
        "#model prediction\n",
        "pred = model.predict(x_test)\n",
        "\n",
        "#print(pred)\n",
        "length = len(pred)\n",
        "\n",
        "for i in range(length):\n",
        "  #Printing the actual category of the image: Q or F\n",
        "  print(\"Actual Category: \", CATEGORIES[y_test[i]])\n",
        "\n",
        "  #Printing the predicted category of the image: Q or F\n",
        "  print(\"Predicted Category: \", CATEGORIES[round(pred[i][0])])  \n",
        "  \n",
        "  #Prediction Percentages \n",
        "  if (y_test[i] == 0):\n",
        "    print(\"Model Prediction Percentage: \", (round((1-pred[i][0])*100.0, 3)), \"%\")\n",
        "  else:\n",
        "    print(\"Model Prediction Percentage: \", (round(pred[i][0]*100.0, 3)), \"%\")\n",
        "\n",
        "  if (round(pred[i][0]) == y_test[i]):\n",
        "    print(\"Correct Classification\")\n",
        "  else:\n",
        "    print(\"Misclassification\")  \n",
        "  \n",
        "  plt.imshow(x_test[i].reshape(IMG_SIZE, IMG_SIZE), cmap = 'gray')\n",
        "  plt.show()\n",
        "\n"
      ],
      "execution_count": 20,
      "outputs": [
        {
          "output_type": "stream",
          "text": [
            "Actual Category:  F\n",
            "Predicted Category:  F\n",
            "Model Prediction Percentage:  99.991 %\n",
            "Correct Classification\n"
          ],
          "name": "stdout"
        },
        {
          "output_type": "display_data",
          "data": {
            "image/png": "[encoded data removed]",
            "text/plain": [
              "<Figure size 432x288 with 1 Axes>"
            ]
          },
          "metadata": {
            "tags": [],
            "needs_background": "light"
          }
        },
        {
          "output_type": "stream",
          "text": [
            "Actual Category:  Q\n",
            "Predicted Category:  Q\n",
            "Model Prediction Percentage:  100.0 %\n",
            "Correct Classification\n"
          ],
          "name": "stdout"
        },
        {
          "output_type": "display_data",
          "data": {
            "image/png": "[encoded data removed]",
            "text/plain": [
              "<Figure size 432x288 with 1 Axes>"
            ]
          },
          "metadata": {
            "tags": [],
            "needs_background": "light"
          }
        },
        {
          "output_type": "stream",
          "text": [
            "Actual Category:  F\n",
            "Predicted Category:  F\n",
            "Model Prediction Percentage:  99.574 %\n",
            "Correct Classification\n"
          ],
          "name": "stdout"
        },
        {
          "output_type": "display_data",
          "data": {
            "image/png": "[encoded data removed]",
            "text/plain": [
              "<Figure size 432x288 with 1 Axes>"
            ]
          },
          "metadata": {
            "tags": [],
            "needs_background": "light"
          }
        },
        {
          "output_type": "stream",
          "text": [
            "Actual Category:  Q\n",
            "Predicted Category:  Q\n",
            "Model Prediction Percentage:  100.0 %\n",
            "Correct Classification\n"
          ],
          "name": "stdout"
        },
        {
          "output_type": "display_data",
          "data": {
            "image/png": "[encoded data removed]",
            "text/plain": [
              "<Figure size 432x288 with 1 Axes>"
            ]
          },
          "metadata": {
            "tags": [],
            "needs_background": "light"
          }
        },
        {
          "output_type": "stream",
          "text": [
            "Actual Category:  Q\n",
            "Predicted Category:  Q\n",
            "Model Prediction Percentage:  99.975 %\n",
            "Correct Classification\n"
          ],
          "name": "stdout"
        },
        {
          "output_type": "display_data",
          "data": {
            "image/png": "[encoded data removed]",
            "text/plain": [
              "<Figure size 432x288 with 1 Axes>"
            ]
          },
          "metadata": {
            "tags": [],
            "needs_background": "light"
          }
        },
        {
          "output_type": "stream",
          "text": [
            "Actual Category:  F\n",
            "Predicted Category:  F\n",
            "Model Prediction Percentage:  86.626 %\n",
            "Correct Classification\n"
          ],
          "name": "stdout"
        },
        {
          "output_type": "display_data",
          "data": {
            "image/png": "[encoded data removed]",
            "text/plain": [
              "<Figure size 432x288 with 1 Axes>"
            ]
          },
          "metadata": {
            "tags": [],
            "needs_background": "light"
          }
        },
        {
          "output_type": "stream",
          "text": [
            "Actual Category:  F\n",
            "Predicted Category:  Q\n",
            "Model Prediction Percentage:  9.181 %\n",
            "Misclassification\n"
          ],
          "name": "stdout"
        },
        {
          "output_type": "display_data",
          "data": {
            "image/png": "[encoded data removed]",
            "text/plain": [
              "<Figure size 432x288 with 1 Axes>"
            ]
          },
          "metadata": {
            "tags": [],
            "needs_background": "light"
          }
        },
        {
          "output_type": "stream",
          "text": [
            "Actual Category:  Q\n",
            "Predicted Category:  Q\n",
            "Model Prediction Percentage:  100.0 %\n",
            "Correct Classification\n"
          ],
          "name": "stdout"
        },
        {
          "output_type": "display_data",
          "data": {
            "image/png": "[encoded data removed]",
            "text/plain": [
              "<Figure size 432x288 with 1 Axes>"
            ]
          },
          "metadata": {
            "tags": [],
            "needs_background": "light"
          }
        }
      ]
    },
    {
      "cell_type": "markdown",
      "metadata": {
        "id": "MHWz19FTui0u"
      },
      "source": [
        "**Can you comment on why they could have been misclassified?**\n",
        "The image size taken in calculations doesn't represent the exact pixels (dimensions) of the image, causing it to zoom in (expand). The reasons for misclassification could be that the letters written are of different sizes and of difference widths, so the model may make errors since the dimensions and positions may be different. Usage of grayscale may result in change in the vibrance of the image too. The images may be blurr and not exactly sharp, creating difficult in getting the correct co-ordinates to form the letter. "
      ]
    }
  ]
}